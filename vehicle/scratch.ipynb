{
 "cells": [
  {
   "cell_type": "code",
   "execution_count": 1,
   "metadata": {},
   "source": [
    "#!fsharp\n",
    "#r \"nuget:EventStore.Client,5.0.9\""
   ],
   "outputs": []
  },
  {
   "cell_type": "code",
   "execution_count": 1,
   "metadata": {},
   "source": [
    "#!fsharp\n",
    "open EventStore.ClientAPI\n",
    "open EventStore.ClientAPI.SystemData\n",
    "open System\n",
    "\n",
    "type Store() =\n",
    "    let uri = Uri(\"discover://localhost:2113\")\n",
    "    let conn = EventStoreConnection.Create(uri, \"test\")\n",
    "    let creds = UserCredentials(\"admin\", \"changeit\")\n",
    "    do conn.ConnectAsync().Wait()\n",
    "\n",
    "    member _.CheckConnection() =\n",
    "        conn.ReadAllEventsForwardAsync(Position.Start, 1, false, creds)\n",
    "        |> Async.AwaitTask\n",
    "        |> Async.RunSynchronously\n",
    "        |> fun slice -> slice.Events |> Seq.map (fun e -> e.SerializeToJson())\n",
    "        |> printfn \"events: %A\"\n",
    ""
   ],
   "outputs": []
  },
  {
   "cell_type": "code",
   "execution_count": 1,
   "metadata": {},
   "source": [
    "#!fsharp\n",
    "let store = Store()\n",
    "store.CheckConnection()"
   ],
   "outputs": [
    {
     "output_type": "execute_result",
     "data": {
      "text/plain": "events: "
     },
     "execution_count": 1,
     "metadata": {}
    },
    {
     "output_type": "execute_result",
     "data": {
      "text/plain": "seq\n  [{\"Event\":{\"EventStreamId\":\"$$$stats-0.0.0.0:2113\",\"EventId\":\"8cbc5efa-1d81-4b81-9d54-27334c83a426\",\"EventNumber\":0,\"EventType\":\"$metadata\",\"Data\":\"eyIkbWF4QWdlIjo4NjQwMDB9\",\"Metadata\":\"\",\"IsJson\":true,\"Created\":\"2020-10-31T13:05:27.187455\",\"CreatedEpoch\":1604149527187},\"Link\":null,\"OriginalPosition\":{\"CommitPosition\":168,\"PreparePosition\":168},\"OriginalEvent\":{\"EventStreamId\":\"$$$stats-0.0.0.0:2113\",\"EventId\":\"8cbc5efa-1d81-4b81-9d54-27334c83a426\",\"EventNumber\":0,\"EventType\":\"$metadata\",\"Data\":\"eyIkbWF4QWdlIjo4NjQwMDB9\",\"Metadata\":\"\",\"IsJson\":true,\"Created\":\"2020-10-31T13:05:27.187455\",\"CreatedEpoch\":1604149527187},\"IsResolved\":false,\"OriginalStreamId\":\"$$$stats-0.0.0.0:2113\",\"OriginalEventNumber\":0}]"
     },
     "execution_count": 1,
     "metadata": {}
    },
    {
     "output_type": "execute_result",
     "data": {
      "text/plain": "\r\n"
     },
     "execution_count": 1,
     "metadata": {}
    }
   ]
  },
  {
   "cell_type": "code",
   "execution_count": 1,
   "metadata": {},
   "source": [
    "#!fsharp\n",
    ""
   ],
   "outputs": []
  }
 ],
 "metadata": {
  "kernelspec": {
   "display_name": ".NET (C#)",
   "language": "C#",
   "name": ".net-csharp"
  },
  "language_info": {
   "file_extension": ".cs",
   "mimetype": "text/x-csharp",
   "name": "C#",
   "pygments_lexer": "csharp",
   "version": "8.0"
  }
 },
 "nbformat": 4,
 "nbformat_minor": 4
}